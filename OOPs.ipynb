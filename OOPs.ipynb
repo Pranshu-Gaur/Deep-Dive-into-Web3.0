{
 "cells": [
  {
   "cell_type": "code",
   "execution_count": 1,
   "id": "35b2a0a5",
   "metadata": {},
   "outputs": [],
   "source": [
    "#Parent Class \n",
    "class User(): \n",
    "    def __init__ (self, first_name, last_name, age, date_of_birth, gender):\n",
    "        self.name = first_name + ' '+ last_name\n",
    "        self.age = age\n",
    "        self.dob = date_of_birth\n",
    "        self.gender = gender\n",
    "        \n",
    "    def show_details (self):\n",
    "        print (\"Personal Details\")\n",
    "        print (\"\")\n",
    "        print (\"Name:\", self.name)\n",
    "        print (\"Age:\", self.age)\n",
    "        print (\"Date of Birth:\", self.dob)\n",
    "        print (\"Gender:\", self.gender)\n",
    "        \n",
    "#Child Class\n",
    "class Bank (User):\n",
    "    def __init__ (self, first_name, last_name, age, date_of_birth, gender):\n",
    "        super().__init__(first_name, last_name, age, date_of_birth, gender)\n",
    "        self.balance = 0\n",
    "        self.to_receive = 0\n",
    "        \n",
    "    def deposit (self, amount):\n",
    "        self.amount = amount\n",
    "        self.balance = self.balance + self. amount\n",
    "        print(\"Account balance has been updated : ₹\", self.balance)\n",
    "        \n",
    "    def withdraw (self, amount):\n",
    "        self. amount = amount\n",
    "        if self. amount > self.balance:\n",
    "            print(\"Insufficient Funds | Balance Available : ₹\", self.balance)\n",
    "        else:\n",
    "            self.balance = self.balance - self.amount\n",
    "            print (\"Account balance has been updated : ₹\", self.balance)\n",
    "            \n",
    "    def view_balance (self):\n",
    "        self.show_details ()\n",
    "        print (\"Account balance: ₹\", self.balance)\n",
    "\n",
    "#Borrower\n",
    "class Lender(Bank):\n",
    "    \n",
    "    def __init__ (self, first_name, last_name, age, date_of_birth, gender):\n",
    "        super().__init__(first_name, last_name, age, date_of_birth, gender)\n",
    "        self.time = 0\n",
    "        self.loan_amount = 0\n",
    "        \n",
    "    def borrow (self, borrow_amount, days):\n",
    "        self.time += days\n",
    "        if self.balance > 2*borrow_amount:\n",
    "            self.balance -= borrow_amount\n",
    "            self.to_receive += borrow_amount\n",
    "            self.loan_amount += borrow_amount\n",
    "            print (\"Request has been approved!\")\n",
    "            print (\"Kindly return the money within\", days ,\"days or else a fine of\", borrow_amount/2,\"will be imposed\")\n",
    "            \n",
    "        else:\n",
    "            print (\"Cannot approve Request as the Requested Amount is too high!\")\n",
    "    \n",
    "    def loan (self, loan_amount, days):\n",
    "        self.time += days\n",
    "        \n",
    "        \n",
    "        #Let Rate for Loan = 2% per day\n",
    "        \n",
    "        amount = loan_amount + loan_amount*days*2/100\n",
    "        self.loan_amount += amount\n",
    "        \n",
    "        if loan_amount > self.balance:\n",
    "            print(\"Requested Loan Amount is too high!\", self.balance)\n",
    "            \n",
    "        else:\n",
    "            print(\"Loan has been approved!\")\n",
    "            print(\"Amount to be returned after\", days,\"days is\", amount)\n",
    "            self.balance -= loan_amount\n",
    "            self.to_receive += amount\n",
    "    \n",
    "    def return_amount (self, amount, days_after_loan):\n",
    "        \n",
    "        if days_after_loan > self.time:\n",
    "            print(\"You are late in returning the Amount!\")\n",
    "            print(\"Returnable amount is\", 1.5*self.loan_amount)\n",
    "            if amount > 1.5*self.loan_amount:\n",
    "                self.balance +=1.5*self.loan_amount\n",
    "                self.to_receive -= 1.5*self.loan_amount\n",
    "                self.loan_amount = 0\n",
    "                print(\"Amount has been returned, you receive back the extra amount: \",amount-1.5*self.loan_amount)\n",
    "            else:\n",
    "                self.balance +=amount\n",
    "                self.loan_amount = 1.5*self.loan_amount - amount\n",
    "                self.to_receive -= 1.5*self.loan_amount - amount\n",
    "                print(\"Amount has been accepted, Amount still remaining to return: \",self.loan_amount)\n",
    "        \n",
    "        else: \n",
    "            if amount > self.loan_amount:\n",
    "                print(\"Amount has been returned, you receive back the extra amount: \",amount-self.loan_amount)\n",
    "                self.balance +=self.loan_amount\n",
    "                self.to_receive -= self.loan_amount\n",
    "                self.loan_amount = 0\n",
    "            else:\n",
    "                self.balance +=amount\n",
    "                self.loan_amount = self.loan_amount - amount\n",
    "                self.to_receive -= amount\n",
    "                print(\"Amount has been accepted, Amount still remaining to return: \",self.loan_amount)\n",
    "                \n",
    "    def view_current_state (self):\n",
    "        \n",
    "        print (\"Account balance: ₹\", self.balance)\n",
    "        print (\"Amount yet to receive: ₹\", self.to_receive)\n",
    "        print (\"Amount lended: ₹\", self.loan_amount)"
   ]
  },
  {
   "cell_type": "code",
   "execution_count": 2,
   "id": "000723f5",
   "metadata": {},
   "outputs": [],
   "source": [
    "p1 = User('Pranshu','Gaur',21,'05/11/2001','Male')"
   ]
  },
  {
   "cell_type": "code",
   "execution_count": 3,
   "id": "37625b26",
   "metadata": {},
   "outputs": [
    {
     "name": "stdout",
     "output_type": "stream",
     "text": [
      "Personal Details\n",
      "\n",
      "Name: Pranshu Gaur\n",
      "Age: 21\n",
      "Date of Birth: 05/11/2001\n",
      "Gender: Male\n"
     ]
    }
   ],
   "source": [
    "p1.show_details()"
   ]
  },
  {
   "cell_type": "code",
   "execution_count": 4,
   "id": "9b2cb618",
   "metadata": {},
   "outputs": [],
   "source": [
    "p1 = Bank('Pranshu','Gaur',21,'05/11/2001','Male')"
   ]
  },
  {
   "cell_type": "code",
   "execution_count": 5,
   "id": "34d5b214",
   "metadata": {},
   "outputs": [
    {
     "name": "stdout",
     "output_type": "stream",
     "text": [
      "Account balance has been updated : ₹ 1000\n"
     ]
    }
   ],
   "source": [
    "p1.deposit(1000)"
   ]
  },
  {
   "cell_type": "code",
   "execution_count": 6,
   "id": "064eaa4c",
   "metadata": {},
   "outputs": [
    {
     "name": "stdout",
     "output_type": "stream",
     "text": [
      "Account balance has been updated : ₹ 2000\n"
     ]
    }
   ],
   "source": [
    "p1.deposit(1000)"
   ]
  },
  {
   "cell_type": "code",
   "execution_count": 7,
   "id": "e68fc62f",
   "metadata": {},
   "outputs": [],
   "source": [
    "p2 = Lender('Pranshu','Gaur',21,'05/11/2001','Male')\n"
   ]
  },
  {
   "cell_type": "code",
   "execution_count": 8,
   "id": "5b4f9d95",
   "metadata": {},
   "outputs": [
    {
     "name": "stdout",
     "output_type": "stream",
     "text": [
      "Account balance has been updated : ₹ 1000\n"
     ]
    }
   ],
   "source": [
    "p2.deposit(1000)"
   ]
  },
  {
   "cell_type": "code",
   "execution_count": 9,
   "id": "4057f489",
   "metadata": {},
   "outputs": [
    {
     "name": "stdout",
     "output_type": "stream",
     "text": [
      "Personal Details\n",
      "\n",
      "Name: Pranshu Gaur\n",
      "Age: 21\n",
      "Date of Birth: 05/11/2001\n",
      "Gender: Male\n"
     ]
    }
   ],
   "source": [
    "p2.show_details()"
   ]
  },
  {
   "cell_type": "code",
   "execution_count": 10,
   "id": "4397aece",
   "metadata": {},
   "outputs": [
    {
     "name": "stdout",
     "output_type": "stream",
     "text": [
      "Request has been approved!\n",
      "Kindly return the money within 10 days or else a fine of 150.0 will be imposed\n"
     ]
    }
   ],
   "source": [
    "p2.borrow(300,10)"
   ]
  },
  {
   "cell_type": "code",
   "execution_count": 11,
   "id": "2b80b3e2",
   "metadata": {},
   "outputs": [
    {
     "name": "stdout",
     "output_type": "stream",
     "text": [
      "Amount has been accepted, Amount still remaining to return:  0\n"
     ]
    }
   ],
   "source": [
    "p2.return_amount(300,8)"
   ]
  },
  {
   "cell_type": "code",
   "execution_count": 12,
   "id": "b344c89a",
   "metadata": {},
   "outputs": [
    {
     "name": "stdout",
     "output_type": "stream",
     "text": [
      "Loan has been approved!\n",
      "Amount to be returned after 10 days is 600.0\n"
     ]
    }
   ],
   "source": [
    "p2.loan(500,10)"
   ]
  },
  {
   "cell_type": "code",
   "execution_count": 13,
   "id": "034e3be1",
   "metadata": {},
   "outputs": [
    {
     "name": "stdout",
     "output_type": "stream",
     "text": [
      "Amount has been accepted, Amount still remaining to return:  150.0\n"
     ]
    }
   ],
   "source": [
    "p2.return_amount(450,9)"
   ]
  },
  {
   "cell_type": "code",
   "execution_count": 14,
   "id": "099e058f",
   "metadata": {},
   "outputs": [
    {
     "name": "stdout",
     "output_type": "stream",
     "text": [
      "Amount has been accepted, Amount still remaining to return:  0.0\n"
     ]
    }
   ],
   "source": [
    "p2.return_amount(150,9)"
   ]
  },
  {
   "cell_type": "code",
   "execution_count": 15,
   "id": "d68618fc",
   "metadata": {},
   "outputs": [
    {
     "name": "stdout",
     "output_type": "stream",
     "text": [
      "Personal Details\n",
      "\n",
      "Name: Pranshu Gaur\n",
      "Age: 21\n",
      "Date of Birth: 05/11/2001\n",
      "Gender: Male\n",
      "Account balance: ₹ 1100\n"
     ]
    }
   ],
   "source": [
    "p2.view_balance()"
   ]
  },
  {
   "cell_type": "code",
   "execution_count": 16,
   "id": "220c7fe1",
   "metadata": {},
   "outputs": [
    {
     "name": "stdout",
     "output_type": "stream",
     "text": [
      "Account balance: ₹ 1100\n",
      "Amount yet to receive: ₹ 0.0\n",
      "Amount lended: ₹ 0.0\n"
     ]
    }
   ],
   "source": [
    "p2.view_current_state()"
   ]
  },
  {
   "cell_type": "code",
   "execution_count": 17,
   "id": "75cec473",
   "metadata": {},
   "outputs": [
    {
     "name": "stdout",
     "output_type": "stream",
     "text": [
      "Cannot approve Request as the Requested Amount is too high!\n"
     ]
    }
   ],
   "source": [
    "p2.borrow(560,15)"
   ]
  },
  {
   "cell_type": "code",
   "execution_count": 18,
   "id": "e47b08f0",
   "metadata": {},
   "outputs": [
    {
     "name": "stdout",
     "output_type": "stream",
     "text": [
      "Loan has been approved!\n",
      "Amount to be returned after 15 days is 728.0\n"
     ]
    }
   ],
   "source": [
    "p2.loan(560,15)"
   ]
  },
  {
   "cell_type": "code",
   "execution_count": 19,
   "id": "8a1a6977",
   "metadata": {},
   "outputs": [
    {
     "name": "stdout",
     "output_type": "stream",
     "text": [
      "Amount has been accepted, Amount still remaining to return:  8.0\n"
     ]
    }
   ],
   "source": [
    "p2.return_amount(720,14)"
   ]
  },
  {
   "cell_type": "code",
   "execution_count": 20,
   "id": "53b43352",
   "metadata": {},
   "outputs": [
    {
     "name": "stdout",
     "output_type": "stream",
     "text": [
      "Amount has been returned, you receive back the extra amount:  42.0\n"
     ]
    }
   ],
   "source": [
    "p2.return_amount(50,15)"
   ]
  },
  {
   "cell_type": "code",
   "execution_count": 21,
   "id": "905786ee",
   "metadata": {},
   "outputs": [
    {
     "name": "stdout",
     "output_type": "stream",
     "text": [
      "Account balance: ₹ 1268.0\n",
      "Amount yet to receive: ₹ 0.0\n",
      "Amount lended: ₹ 0\n"
     ]
    }
   ],
   "source": [
    "p2.view_current_state()"
   ]
  }
 ],
 "metadata": {
  "kernelspec": {
   "display_name": "Python 3 (ipykernel)",
   "language": "python",
   "name": "python3"
  },
  "language_info": {
   "codemirror_mode": {
    "name": "ipython",
    "version": 3
   },
   "file_extension": ".py",
   "mimetype": "text/x-python",
   "name": "python",
   "nbconvert_exporter": "python",
   "pygments_lexer": "ipython3",
   "version": "3.9.7"
  }
 },
 "nbformat": 4,
 "nbformat_minor": 5
}
